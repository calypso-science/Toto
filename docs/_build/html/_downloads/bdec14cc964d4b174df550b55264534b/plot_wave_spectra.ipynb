{
  "cells": [
    {
      "cell_type": "code",
      "execution_count": null,
      "metadata": {
        "collapsed": false
      },
      "outputs": [],
      "source": [
        "%matplotlib inline"
      ]
    },
    {
      "cell_type": "markdown",
      "metadata": {},
      "source": [
        "\n# Wave spectra examples\n"
      ]
    },
    {
      "cell_type": "code",
      "execution_count": null,
      "metadata": {
        "collapsed": false
      },
      "outputs": [],
      "source": [
        "import os\nimport pandas as pd\nimport toto\n\n\nwavefile='https://raw.githubusercontent.com/calypso-science/Toto/master/_tests/txt_file/yura87.dat'\nos.system('wget %s ' % wavefile)\n\nwave=pd.read_csv('yura87.dat',skiprows=28,names=['time','ssh1','ssh2','ssh3'],delimiter='\\s+')\ntime=pd.to_datetime(wave['time'],unit='s')\nwave['time'][:]=time\nwave.set_index('time',inplace=True)\n\nwave.WaveAnalysis.wave_spectra(sea_level='ssh1',\\\n        args={'units':'m',\n         'windows': 3600,\n         'overlap':1800,\n         'nfft':3600,\n         'detrend':'Off',\n         'period (s) min and max for plotting':[5, 250],\n         'xaxis':'period',\n         'display':'On',\n         })\n\n# wave.WaveAnalysis.wave_spectra(sea_level='ssh',\\\n#         args={'units':'m',\n#          'windows': 3600,\n#          'overlap':1800,\n#          'nfft':3600,\n#          'detrend':'Off',\n#          'period (s) min and max for plotting':[3, 250],\n#          'xaxis':'frequency',\n#          'display':'On',\n#          })"
      ]
    }
  ],
  "metadata": {
    "kernelspec": {
      "display_name": "Python 3",
      "language": "python",
      "name": "python3"
    },
    "language_info": {
      "codemirror_mode": {
        "name": "ipython",
        "version": 3
      },
      "file_extension": ".py",
      "mimetype": "text/x-python",
      "name": "python",
      "nbconvert_exporter": "python",
      "pygments_lexer": "ipython3",
      "version": "3.8.10"
    }
  },
  "nbformat": 4,
  "nbformat_minor": 0
}