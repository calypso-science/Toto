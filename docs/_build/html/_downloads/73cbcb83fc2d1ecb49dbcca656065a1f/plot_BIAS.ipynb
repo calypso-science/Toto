{
  "cells": [
    {
      "cell_type": "code",
      "execution_count": null,
      "metadata": {
        "collapsed": false
      },
      "outputs": [],
      "source": [
        "%matplotlib inline"
      ]
    },
    {
      "cell_type": "markdown",
      "metadata": {},
      "source": [
        "\n# BIAS histogramm examples\n"
      ]
    },
    {
      "cell_type": "code",
      "execution_count": null,
      "metadata": {
        "collapsed": false
      },
      "outputs": [],
      "source": [
        "import pandas as pd\nimport toto\nimport matplotlib.pyplot as plt\nfrom toto.inputs.txt import TXTfile\nimport os\n# read the file\nhindcast='https://raw.githubusercontent.com/calypso-science/Toto/master/_tests/txt_file/tahuna_hindcast.txt'\nmeasured='https://raw.githubusercontent.com/calypso-science/Toto/master/_tests/txt_file/tahuna_measured.txt'\nos.system('wget %s ' % hindcast)\nos.system('wget %s ' % measured)\n\nme=TXTfile(['tahuna_measured.txt'],colNamesLine=1,skiprows=1,unitNamesLine=0,time_col_name={'Year':'year','Month':'month','Day':'day','Hour':'hour','Min':'Minute'})\nme.reads()\nme.read_time()\nme=me._toDataFrame()\n\nhd=TXTfile(['tahuna_hindcast.txt'],colNamesLine=1,skiprows=1,unitNamesLine=0,time_col_name={'Year':'year','Month':'month','Day':'day','Hour':'hour','Min':'Minute'})\nhd.reads()\nhd.read_time()\nhd=hd._toDataFrame()\n\n\n\ntmp=me[0].reindex(hd[0].index,method='nearest')\nhd[0]['hs_measured']=tmp['Sig. Wave']\nhd[0].filename='Tahuna'\n# # Processing\nhd[0].StatPlots.BIAS_histogramm(measured='hs_measured',modelled='hs',\n        args={'Nb of bins':30,\n        'Xlabel':'Significant wave height',\n        'units':'m',\n        'display':'On',\n        })"
      ]
    }
  ],
  "metadata": {
    "kernelspec": {
      "display_name": "Python 3",
      "language": "python",
      "name": "python3"
    },
    "language_info": {
      "codemirror_mode": {
        "name": "ipython",
        "version": 3
      },
      "file_extension": ".py",
      "mimetype": "text/x-python",
      "name": "python",
      "nbconvert_exporter": "python",
      "pygments_lexer": "ipython3",
      "version": "3.8.10"
    }
  },
  "nbformat": 4,
  "nbformat_minor": 0
}