{
  "cells": [
    {
      "cell_type": "code",
      "execution_count": null,
      "metadata": {
        "collapsed": false
      },
      "outputs": [],
      "source": [
        "%matplotlib inline"
      ]
    },
    {
      "cell_type": "markdown",
      "metadata": {},
      "source": [
        "\n# Cyclone removal\n"
      ]
    },
    {
      "cell_type": "code",
      "execution_count": null,
      "metadata": {
        "collapsed": false
      },
      "outputs": [],
      "source": [
        "import pandas as pd\nimport toto\nfrom toto.core.cyclone_mask import Cyclone,binaries_directory\nimport os\nimport matplotlib.pyplot as plt\n\nfrom pandas.plotting import register_matplotlib_converters\nregister_matplotlib_converters()\n\n# Read a Txt file\n#filename=r'../_tests/txt_file/cyclones_115.3085_19.8892.txt'\nfilename='https://raw.githubusercontent.com/calypso-science/Toto/master/_tests/txt_file/cyclones_115.3085_19.8892.txt'\n\ndf0=pd.read_csv(filename,delimiter='\\t',header=0)\ndf0.rename(columns={'Year':'year','Month':'month','Day':'day',\n\t                                   'H[UTC]':'hour','Min':'minute','Sec':'second'},\n\t       inplace=True)\n\ntime=pd.to_datetime(df0[['year','month','day','hour','minute','second']])\n\n# Time series location\nlon=115.3085\nlat=19.8892\n# import Cyclone module\nCYCLONE_FILE=os.path.join(binaries_directory(),'IBTrACS.ALL.v04r00.nc')\ncy=Cyclone(cyclone_file=CYCLONE_FILE)\ncy.min_cat=1 # Minimum category to use\ncy.rmw=None # radius_of_tropical_cyclone_maximum_sustained_wind_speed if not set it will use radius in meters\ncy.radius=500 # radius around the cente to mask in meter\ncy.mask_before=12/24. # hours before a cyclone to mask\ncy.mask_after=12/24. # hours after a cyclone to mask\n\n\n\n# mask all timestep within cy.radius with cyclone above or equal the minimum category \ncy.limit_categories_within_radius([lon,lat]) \n\n# create the mask\nmsk=cy.remove_cyclones(time,[lon,lat])\n\n# Apply the mask\ndf_no_cyclone=df0.loc[~msk]\n\n# Plot the results\nfig, ax = plt.subplots(1)\nax.plot(time,df0['hs[m]'],label='Real')\nax.plot(time[~msk],df_no_cyclone['hs[m]'],'r',label='Cyclone removed')\n#plt.xlim(datetime.datetime(2010,11,1),datetime.datetime(2010,12,1))\nplt.legend()\nfig.autofmt_xdate()\nplt.show()"
      ]
    }
  ],
  "metadata": {
    "kernelspec": {
      "display_name": "Python 3",
      "language": "python",
      "name": "python3"
    },
    "language_info": {
      "codemirror_mode": {
        "name": "ipython",
        "version": 3
      },
      "file_extension": ".py",
      "mimetype": "text/x-python",
      "name": "python",
      "nbconvert_exporter": "python",
      "pygments_lexer": "ipython3",
      "version": "3.8.10"
    }
  },
  "nbformat": 4,
  "nbformat_minor": 0
}