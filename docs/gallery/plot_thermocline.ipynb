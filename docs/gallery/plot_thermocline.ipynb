{
  "cells": [
    {
      "cell_type": "code",
      "execution_count": null,
      "metadata": {
        "collapsed": false
      },
      "outputs": [],
      "source": [
        "%matplotlib inline"
      ]
    },
    {
      "cell_type": "markdown",
      "metadata": {},
      "source": [
        "\n# Thermocline examples\n"
      ]
    },
    {
      "cell_type": "code",
      "execution_count": null,
      "metadata": {
        "collapsed": false
      },
      "outputs": [],
      "source": [
        "import pandas as pd\nimport toto\nimport matplotlib.pyplot as plt\nfrom toto.inputs.msl import MSLfile\nimport os\n# read the file\nfilename='https://raw.githubusercontent.com/calypso-science/Toto/master/_tests/nc_file/TB_current.nc'\nos.system('wget %s '% filename)\ndf=MSLfile('TB_current.nc')._toDataFrame()\n\n# Processing\ntemperature=[x for x in df[0].keys().to_list() if 'temp' in x]\ndf_new=df[0].StatPlots.plot_thermocline(mag=temperature,\n\targs={'function':'Mean',\n\t'X label':'Water temperature [degC]',\n\t'time blocking':'Seasonal (South hemisphere)',\n\t'display':'On','table':'Off'})"
      ]
    }
  ],
  "metadata": {
    "kernelspec": {
      "display_name": "Python 3",
      "language": "python",
      "name": "python3"
    },
    "language_info": {
      "codemirror_mode": {
        "name": "ipython",
        "version": 3
      },
      "file_extension": ".py",
      "mimetype": "text/x-python",
      "name": "python",
      "nbconvert_exporter": "python",
      "pygments_lexer": "ipython3",
      "version": "3.8.10"
    }
  },
  "nbformat": 4,
  "nbformat_minor": 0
}