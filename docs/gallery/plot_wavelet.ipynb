{
  "cells": [
    {
      "cell_type": "code",
      "execution_count": null,
      "metadata": {
        "collapsed": false
      },
      "outputs": [],
      "source": [
        "%matplotlib inline"
      ]
    },
    {
      "cell_type": "markdown",
      "metadata": {},
      "source": [
        "\n# Wavelet examples\n"
      ]
    },
    {
      "cell_type": "code",
      "execution_count": null,
      "metadata": {
        "collapsed": false
      },
      "outputs": [],
      "source": [
        "import os\nimport pandas as pd\nimport toto\nimport matplotlib.pyplot as plt\n\nwavefile='https://raw.githubusercontent.com/calypso-science/Toto/master/_tests/txt_file/yura87.dat'\nos.system('wget %s ' % wavefile)\n\nwave=pd.read_csv('yura87.dat',skiprows=28,names=['time','ssh1','ssh2','ssh3'],delimiter='\\s+')\ntime=pd.to_datetime(wave['time'],unit='s')\nwave['time'][:]=time\nwave.set_index('time',inplace=True)\n\n\nwave.WaveAnalysis.wavelet_analysis(sea_level='ssh1',\\\n        args={\n         'units':'m',\n         'mother wavelet':'Morlet',\n         'wave period range (min and max) (in s)':[3, 25],\n         'number of sub-ocatve per period band': 8,\n         'display':'On'\n         })"
      ]
    }
  ],
  "metadata": {
    "kernelspec": {
      "display_name": "Python 3",
      "language": "python",
      "name": "python3"
    },
    "language_info": {
      "codemirror_mode": {
        "name": "ipython",
        "version": 3
      },
      "file_extension": ".py",
      "mimetype": "text/x-python",
      "name": "python",
      "nbconvert_exporter": "python",
      "pygments_lexer": "ipython3",
      "version": "3.8.10"
    }
  },
  "nbformat": 4,
  "nbformat_minor": 0
}