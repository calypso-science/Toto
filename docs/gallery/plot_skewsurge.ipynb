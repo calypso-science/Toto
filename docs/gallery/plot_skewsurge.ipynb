{
  "cells": [
    {
      "cell_type": "code",
      "execution_count": null,
      "metadata": {
        "collapsed": false
      },
      "outputs": [],
      "source": [
        "%matplotlib inline"
      ]
    },
    {
      "cell_type": "markdown",
      "metadata": {},
      "source": [
        "\n# Skew surge examples\n"
      ]
    },
    {
      "cell_type": "code",
      "execution_count": null,
      "metadata": {
        "collapsed": false
      },
      "outputs": [],
      "source": [
        "import pandas as pd\nimport toto\nimport matplotlib.pyplot as plt\nfrom toto.inputs.nc import NCfile\nimport os\n# read the file\nfilename='https://raw.githubusercontent.com/calypso-science/Toto/master/_tests/nc_file/elevation.nc'\nos.system('wget %s '% filename)\ndf=NCfile('elevation.nc')._toDataFrame()\n\n# Processing\ndf_new=df[0].TideAnalysis.skew_surge(mag='elev40',args={'latitude':-36})\n\n\n# Plot the results\nfig, ax = plt.subplots(1)\nax.plot(df[0].index,df[0]['elev40'],label='Elevation')\nax.plot(df_new.index,df_new['skew_surge'],label='Skew surge')\nax.legend()\nfig.autofmt_xdate()\nplt.show()"
      ]
    }
  ],
  "metadata": {
    "kernelspec": {
      "display_name": "Python 3",
      "language": "python",
      "name": "python3"
    },
    "language_info": {
      "codemirror_mode": {
        "name": "ipython",
        "version": 3
      },
      "file_extension": ".py",
      "mimetype": "text/x-python",
      "name": "python",
      "nbconvert_exporter": "python",
      "pygments_lexer": "ipython3",
      "version": "3.8.10"
    }
  },
  "nbformat": 4,
  "nbformat_minor": 0
}