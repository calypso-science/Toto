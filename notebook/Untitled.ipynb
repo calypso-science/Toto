{
 "cells": [
  {
   "cell_type": "code",
   "execution_count": 1,
   "id": "e75b979b",
   "metadata": {
    "scrolled": true
   },
   "outputs": [
    {
     "name": "stdout",
     "output_type": "stream",
     "text": [
      "fig import only supported on Windows\n"
     ]
    },
    {
     "name": "stderr",
     "output_type": "stream",
     "text": [
      "/usr/local/lib/python3.8/dist-packages/wafo-0.4.0-py3.8-linux-x86_64.egg/wafo/kdetools/demo.py:14: UserWarning: fig import only supported on Windows\n",
      "  warnings.warn('fig import only supported on Windows')\n"
     ]
    }
   ],
   "source": [
    "# load the tools\n",
    "import toto\n",
    "import xarray as xr\n",
    "from toto.inputs.nc import NCfile\n",
    "from toto.filters import despike_phasespace3d,lanczos_filter,bandpass_filter\n",
    "import matplotlib.pyplot as plt\n"
   ]
  },
  {
   "cell_type": "code",
   "execution_count": 2,
   "id": "d4d7b6b6",
   "metadata": {},
   "outputs": [],
   "source": [
    "# Read a timeseries of elevation\n",
    "filename=r'../_tests/nc_file/elevation.nc'\n",
    "nc=xr.open_dataset(filename)\n",
    "df=nc.to_dataframe()"
   ]
  },
  {
   "cell_type": "code",
   "execution_count": 3,
   "id": "0418c4e5",
   "metadata": {},
   "outputs": [],
   "source": [
    "import numpy as np\n",
    "df['elev']=(df['elev40'].copy()*np.random.rand(len(df.index),))+np.random.rand(len(df.index),)"
   ]
  },
  {
   "cell_type": "code",
   "execution_count": 4,
   "id": "4b2e965a",
   "metadata": {},
   "outputs": [],
   "source": [
    "df.Statistics.comparison_statistics(measured='elev',hindcast='elev40',args={'folder out':'../_tests/'})"
   ]
  },
  {
   "cell_type": "code",
   "execution_count": null,
   "id": "c7eda9a4",
   "metadata": {},
   "outputs": [],
   "source": []
  },
  {
   "cell_type": "code",
   "execution_count": null,
   "id": "64d9fafa",
   "metadata": {},
   "outputs": [],
   "source": []
  }
 ],
 "metadata": {
  "kernelspec": {
   "display_name": "Python 3",
   "language": "python",
   "name": "python3"
  },
  "language_info": {
   "codemirror_mode": {
    "name": "ipython",
    "version": 3
   },
   "file_extension": ".py",
   "mimetype": "text/x-python",
   "name": "python",
   "nbconvert_exporter": "python",
   "pygments_lexer": "ipython3",
   "version": "3.8.10"
  }
 },
 "nbformat": 4,
 "nbformat_minor": 5
}
