{
 "cells": [
  {
   "cell_type": "code",
   "execution_count": null,
   "metadata": {},
   "outputs": [],
   "source": [
    "import xarray\n",
    "import totoview \n",
    "url='https://tds.hycom.org/thredds/dodsC/GLBy0.08/latest?time[0:1:100],surf_el[0:1:100][2000][3000]'\n",
    "xar=xarray.open_dataset(url)\n",
    "df=xar.to_dataframe()\n",
    "df.reset_index(inplace=True)\n",
    "df.set_index('time',inplace=True,drop=False)\n",
    "del df['lon']\n",
    "del df ['lat']\n",
    "\n",
    "totoview.show(dataframe=[df])"
   ]
  }
 ],
 "metadata": {
  "kernelspec": {
   "display_name": "Python 3",
   "language": "python",
   "name": "python3"
  },
  "language_info": {
   "codemirror_mode": {
    "name": "ipython",
    "version": 3
   },
   "file_extension": ".py",
   "mimetype": "text/x-python",
   "name": "python",
   "nbconvert_exporter": "python",
   "pygments_lexer": "ipython3",
   "version": "3.8.10"
  }
 },
 "nbformat": 4,
 "nbformat_minor": 4
}
