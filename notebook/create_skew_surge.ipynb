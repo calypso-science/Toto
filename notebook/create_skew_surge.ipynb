{
 "cells": [
  {
   "cell_type": "code",
   "execution_count": 3,
   "metadata": {},
   "outputs": [
    {
     "name": "stdout",
     "output_type": "stream",
     "text": [
      "solve: matrix prep ... solution ... diagnostics ... done.\n",
      "prep/calcs ... done.\n",
      "                            skew_surge\n",
      "time                                  \n",
      "2010-05-10 16:59:59.996805    0.040353\n",
      "2010-05-11 05:59:59.996761    0.046060\n",
      "2010-05-11 17:59:59.996721    0.043791\n",
      "2010-05-12 06:59:59.996677    0.025589\n",
      "2010-05-12 18:59:59.996637    0.035088\n",
      "...                                ...\n",
      "2011-06-28 04:59:59.963532   -0.044842\n",
      "2011-06-28 17:59:59.963488   -0.048572\n",
      "2011-06-29 05:59:59.963448   -0.037191\n",
      "2011-06-29 17:59:59.963408   -0.048817\n",
      "2011-06-30 06:59:59.963364   -0.033137\n",
      "\n",
      "[804 rows x 1 columns]\n"
     ]
    }
   ],
   "source": [
    "import pandas as pd\n",
    "import toto\n",
    "from toto.inputs.mat import MATfile\n",
    "\n",
    "filename=r'../_tests/mat_file/tidal.mat'\n",
    "tx=MATfile(filename)\n",
    "df=tx._toDataFrame()\n",
    "\n",
    "dfout=df[0].TideAnalysis.skew_surge(mag='el_tide',\\\n",
    "        args={'Minimum SNR':2,\\\n",
    "        'Latitude':-36.0,\n",
    "        })\n",
    "\n",
    "print(dfout)"
   ]
  },
  {
   "cell_type": "code",
   "execution_count": null,
   "metadata": {},
   "outputs": [],
   "source": []
  }
 ],
 "metadata": {
  "kernelspec": {
   "display_name": "Python 3",
   "language": "python",
   "name": "python3"
  },
  "language_info": {
   "codemirror_mode": {
    "name": "ipython",
    "version": 3
   },
   "file_extension": ".py",
   "mimetype": "text/x-python",
   "name": "python",
   "nbconvert_exporter": "python",
   "pygments_lexer": "ipython3",
   "version": "3.8.10"
  }
 },
 "nbformat": 4,
 "nbformat_minor": 4
}
